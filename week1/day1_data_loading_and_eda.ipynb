{
 "cells": [
  {
   "cell_type": "markdown",
   "metadata": {},
   "source": [
    "# Day 1: Data Loading & Exploratory Data Analysis (EDA)\n",
    "\n",
    "## 🎯 Welcome to Your 7-Day ML Journey!\n",
    "\n",
    "**Today's Focus**: Understanding our data before we do anything else\n",
    "\n",
    "This is Day 1 of your structured ML learning path. Today we're laying the foundation by thoroughly exploring the Titanic dataset. This might seem \"basic,\" but remember: **good data scientists spend 80% of their time understanding and preparing data, and only 20% building models.**\n",
    "\n",
    "### What We'll Accomplish Today:\n",
    "1. 📊 Load and understand the Titanic dataset structure\n",
    "2. 🔍 Identify missing values and data quality issues  \n",
    "3. 📈 Explore distributions of all features\n",
    "4. 🔗 Analyze relationships between variables\n",
    "5. 🎯 Set up the foundation for tomorrow's data cleaning\n",
    "\n",
    "### Why Start Here?\n",
    "Every successful ML project starts with understanding the data. Today's exploration will directly inform:\n",
    "- **Day 2**: What data cleaning strategies to use\n",
    "- **Day 3**: Which features to include in our model\n",
    "- **Day 4**: How to interpret our model's performance\n",
    "\n",
    "Let's dive in! 🚀"
   ]
  },
  {
   "cell_type": "markdown",
   "metadata": {},
   "source": [
    "## 1. Setting Up Our Environment\n",
    "\n",
    "First, let's import all the libraries we'll need and understand what each one does:"
   ]
  },
  {
   "cell_type": "code",
   "execution_count": 1,
   "metadata": {},
   "outputs": [
    {
     "name": "stdout",
     "output_type": "stream",
     "text": [
      "✅ All libraries imported successfully!\n",
      "📊 Pandas version: 2.3.1\n",
      "📈 Matplotlib version: 3.10.5\n",
      "🎨 Seaborn version: 0.13.2\n"
     ]
    }
   ],
   "source": [
    "# Data manipulation and analysis\n",
    "import pandas as pd\n",
    "import numpy as np\n",
    "\n",
    "# Data visualization\n",
    "import matplotlib.pyplot as plt\n",
    "import seaborn as sns\n",
    "\n",
    "# For displaying all columns in pandas\n",
    "pd.set_option('display.max_columns', None)\n",
    "\n",
    "# Set up matplotlib for better plots\n",
    "plt.style.use('default')\n",
    "plt.rcParams['figure.figsize'] = (10, 6)\n",
    "plt.rcParams['font.size'] = 12\n",
    "\n",
    "# Set seaborn style for prettier plots\n",
    "sns.set_palette(\"husl\")\n",
    "\n",
    "# Ignore warnings for cleaner output\n",
    "import warnings\n",
    "warnings.filterwarnings('ignore')\n",
    "\n",
    "print(\"✅ All libraries imported successfully!\")\n",
    "print(f\"📊 Pandas version: {pd.__version__}\")\n",
    "print(f\"📈 Matplotlib version: {plt.matplotlib.__version__}\")\n",
    "print(f\"🎨 Seaborn version: {sns.__version__}\")"
   ]
  },
  {
   "cell_type": "markdown",
   "metadata": {},
   "source": [
    "### 🧠 Remember This?\n",
    "- **Pandas**: Your main tool for data manipulation (think Excel, but much more powerful)\n",
    "- **NumPy**: Handles mathematical operations and arrays efficiently\n",
    "- **Matplotlib**: The foundation plotting library (like the engine of a car)\n",
    "- **Seaborn**: Makes Matplotlib prettier and easier to use (like the car's interior)\n",
    "\n",
    "The configuration above ensures our plots will be readable and consistent throughout our analysis."
   ]
  },
  {
   "cell_type": "markdown",
   "metadata": {},
   "source": [
    "## 2. Loading the Titanic Dataset\n",
    "\n",
    "We'll use the Titanic dataset that comes built-in with Seaborn. This is the same dataset used on Kaggle and in countless ML tutorials."
   ]
  },
  {
   "cell_type": "code",
   "execution_count": null,
   "metadata": {},
   "outputs": [],
   "source": [
    "# Load the Titanic dataset\n",
    "titanic = sns.load_dataset('titanic')\n",
    "\n",
    "print(\"📋 Dataset loaded successfully!\")\n",
    "print(f\"📏 Dataset shape: {titanic.shape}\")\n",
    "print(f\"👥 Number of passengers: {titanic.shape[0]}\")\n",
    "print(f\"📊 Number of features: {titanic.shape[1]}\")"
   ]
  },
  {
   "cell_type": "markdown",
   "metadata": {},
   "source": [
    "### 🎯 The ML Problem We're Solving\n",
    "\n",
    "**Problem Type**: Binary Classification  \n",
    "**Goal**: Predict whether a passenger survived the Titanic disaster  \n",
    "**Target Variable**: `survived` (0 = died, 1 = survived)  \n",
    "**Features**: Everything else (passenger class, age, gender, etc.)\n",
    "\n",
    "This is a **supervised learning** problem because we have historical data with known outcomes (who survived and who didn't)."
   ]
  },
  {
   "cell_type": "markdown",
   "metadata": {},
   "source": [
    "## 3. First Look at Our Data\n",
    "\n",
    "Let's examine the structure and get our first glimpse of the data:"
   ]
  },
  {
   "cell_type": "code",
   "execution_count": null,
   "metadata": {},
   "outputs": [],
   "source": [
    "# Display the first few rows\n",
    "print(\"🔍 First 5 rows of our dataset:\")\n",
    "titanic.head()"
   ]
  },
  {
   "cell_type": "code",
   "execution_count": null,
   "metadata": {},
   "outputs": [],
   "source": [
    "# Get detailed information about the dataset\n",
    "print(\"📋 Dataset Information:\")\n",
    "titanic.info()"
   ]
  },
  {
   "cell_type": "code",
   "execution_count": null,
   "metadata": {},
   "outputs": [],
   "source": [
    "# Get basic statistics for numerical columns\n",
    "print(\"📊 Basic Statistics for Numerical Features:\")\n",
    "titanic.describe()"
   ]
  },
  {
   "cell_type": "markdown",
   "metadata": {},
   "source": [
    "### 🧠 Understanding Each Feature\n",
    "\n",
    "Let's break down what each column means:\n",
    "\n",
    "| Feature | Description | Type | ML Relevance |\n",
    "|---------|-------------|------|-------------|\n",
    "| **survived** | 0 = No, 1 = Yes | Target Variable | This is what we want to predict |\n",
    "| **pclass** | Ticket class (1 = 1st, 2 = 2nd, 3 = 3rd) | Categorical | Socioeconomic status indicator |\n",
    "| **sex** | Gender | Categorical | Historically important for survival |\n",
    "| **age** | Age in years | Numerical | May affect survival chances |\n",
    "| **sibsp** | # of siblings/spouses aboard | Numerical | Family size indicator |\n",
    "| **parch** | # of parents/children aboard | Numerical | Family size indicator |\n",
    "| **fare** | Passenger fare | Numerical | Economic status indicator |\n",
    "| **embarked** | Port of Embarkation (C = Cherbourg, Q = Queenstown, S = Southampton) | Categorical | Geographic/economic indicator |\n",
    "| **class** | Same as pclass but as text | Categorical | Duplicate of pclass |\n",
    "| **who** | man, woman, or child | Categorical | Derived from sex and age |\n",
    "| **adult_male** | True/False | Categorical | Derived feature |\n",
    "| **deck** | Deck level | Categorical | Ship location (lots of missing data) |\n",
    "| **embark_town** | Full name of embarkation port | Categorical | Same as embarked but spelled out |\n",
    "| **alive** | yes/no version of survived | Categorical | Duplicate of target variable |\n",
    "| **alone** | True if travelling alone | Categorical | Derived from sibsp and parch |"
   ]
  },
  {
   "cell_type": "markdown",
   "metadata": {},
   "source": [
    "## 4. Missing Data Analysis\n",
    "\n",
    "Missing data is one of the biggest challenges in real-world ML. Let's see what we're dealing with:"
   ]
  },
  {
   "cell_type": "code",
   "execution_count": null,
   "metadata": {},
   "outputs": [],
   "source": [
    "# Calculate missing data statistics\n",
    "missing_data = titanic.isnull().sum()\n",
    "missing_percent = (missing_data / len(titanic)) * 100\n",
    "\n",
    "# Create a summary dataframe\n",
    "missing_summary = pd.DataFrame({\n",
    "    'Missing Count': missing_data,\n",
    "    'Missing Percentage': missing_percent\n",
    "})\n",
    "\n",
    "# Sort by missing percentage\n",
    "missing_summary = missing_summary.sort_values('Missing Percentage', ascending=False)\n",
    "\n",
    "# Only show columns with missing data\n",
    "missing_summary = missing_summary[missing_summary['Missing Count'] > 0]\n",
    "\n",
    "print(\"🚨 Missing Data Summary:\")\n",
    "print(missing_summary)"
   ]
  },
  {
   "cell_type": "code",
   "execution_count": null,
   "metadata": {},
   "outputs": [],
   "source": [
    "# Visualize missing data patterns\n",
    "plt.figure(figsize=(12, 8))\n",
    "\n",
    "# Create a heatmap of missing values\n",
    "sns.heatmap(titanic.isnull(), \n",
    "            yticklabels=False, \n",
    "            cbar=True, \n",
    "            cmap='viridis',\n",
    "            xticklabels=True)\n",
    "plt.title('Missing Data Pattern\\n(Yellow = Missing, Dark = Present)', fontsize=14, fontweight='bold')\n",
    "plt.xticks(rotation=45)\n",
    "plt.tight_layout()\n",
    "plt.show()\n",
    "\n",
    "# Missing data bar chart\n",
    "plt.figure(figsize=(10, 6))\n",
    "missing_counts = titanic.isnull().sum().sort_values(ascending=True)\n",
    "missing_counts = missing_counts[missing_counts > 0]  # Only show columns with missing data\n",
    "\n",
    "missing_counts.plot(kind='barh', color='coral')\n",
    "plt.title('Missing Values by Feature', fontsize=14, fontweight='bold')\n",
    "plt.xlabel('Number of Missing Values')\n",
    "plt.grid(axis='x', alpha=0.3)\n",
    "plt.tight_layout()\n",
    "plt.show()"
   ]
  },
  {
   "cell_type": "markdown",
   "metadata": {},
   "source": [
    "### 🧠 Understanding Missing Data Patterns\n",
    "\n",
    "**Key Observations:**\n",
    "1. **deck**: 77% missing - This might be because deck information wasn't systematically recorded\n",
    "2. **age**: 20% missing - Common in historical records\n",
    "3. **embarked**: Only 2 missing values - Easy to handle\n",
    "\n",
    "**Why This Matters for Tomorrow:**\n",
    "- **deck**: Might need to drop this feature or create a \"Unknown\" category\n",
    "- **age**: Will need imputation (filling with mean, median, or predicted values)\n",
    "- **embarked**: Can fill with the most common value\n",
    "\n",
    "### 🚨 Common Mistake Alert!\n",
    "Never just delete rows with missing data without understanding WHY the data is missing. Sometimes the missingness itself is informative!"
   ]
  },
  {
   "cell_type": "markdown",
   "metadata": {},
   "source": [
    "## 5. Target Variable Analysis\n",
    "\n",
    "Let's start by understanding our target variable - what we're trying to predict:"
   ]
  },
  {
   "cell_type": "code",
   "execution_count": null,
   "metadata": {},
   "outputs": [],
   "source": [
    "# Survival statistics\n",
    "survival_counts = titanic['survived'].value_counts()\n",
    "survival_rate = titanic['survived'].mean()\n",
    "\n",
    "print(f\"📊 Survival Statistics:\")\n",
    "print(f\"✅ Survived: {survival_counts[1]} passengers ({survival_counts[1]/len(titanic)*100:.1f}%)\")\n",
    "print(f\"❌ Did not survive: {survival_counts[0]} passengers ({survival_counts[0]/len(titanic)*100:.1f}%)\")\n",
    "print(f\"📈 Overall survival rate: {survival_rate:.3f} ({survival_rate*100:.1f}%)\")"
   ]
  },
  {
   "cell_type": "code",
   "execution_count": null,
   "metadata": {},
   "outputs": [],
   "source": [
    "# Visualize survival distribution\n",
    "fig, (ax1, ax2) = plt.subplots(1, 2, figsize=(12, 5))\n",
    "\n",
    "# Count plot\n",
    "sns.countplot(data=titanic, x='survived', ax=ax1, palette='Set2')\n",
    "ax1.set_title('Survival Count', fontsize=14, fontweight='bold')\n",
    "ax1.set_xlabel('Survived (0=No, 1=Yes)')\n",
    "ax1.set_ylabel('Number of Passengers')\n",
    "\n",
    "# Add count labels on bars\n",
    "for i, v in enumerate(survival_counts):\n",
    "    ax1.text(i, v + 10, str(v), ha='center', fontweight='bold')\n",
    "\n",
    "# Pie chart\n",
    "labels = ['Did not survive', 'Survived']\n",
    "colors = ['lightcoral', 'lightgreen']\n",
    "ax2.pie(survival_counts, labels=labels, autopct='%1.1f%%', colors=colors, startangle=90)\n",
    "ax2.set_title('Survival Rate Distribution', fontsize=14, fontweight='bold')\n",
    "\n",
    "plt.tight_layout()\n",
    "plt.show()"
   ]
  },
  {
   "cell_type": "markdown",
   "metadata": {},
   "source": [
    "### 🎯 Why This Matters\n",
    "\n",
    "**Class Imbalance**: We have more deaths (61.6%) than survivals (38.4%). This is important because:\n",
    "1. **Baseline Accuracy**: A \"dumb\" model that always predicts \"death\" would be 61.6% accurate\n",
    "2. **Evaluation Strategy**: We'll need to look beyond just accuracy when evaluating our models\n",
    "3. **Sampling Considerations**: We might need to balance our training data\n",
    "\n",
    "This will become crucial on **Day 4** when we evaluate our model's performance!"
   ]
  },
  {
   "cell_type": "markdown",
   "metadata": {},
   "source": [
    "## 6. Categorical Features Exploration\n",
    "\n",
    "Let's examine each categorical feature and see how it relates to survival:"
   ]
  },
  {
   "cell_type": "code",
   "execution_count": null,
   "metadata": {},
   "outputs": [],
   "source": [
    "# Define the main categorical features to analyze\n",
    "categorical_features = ['sex', 'pclass', 'embarked', 'who', 'alone']\n",
    "\n",
    "# Create subplots for each categorical feature\n",
    "fig, axes = plt.subplots(2, 3, figsize=(18, 12))\n",
    "axes = axes.ravel()  # Flatten the array for easier indexing\n",
    "\n",
    "for idx, feature in enumerate(categorical_features):\n",
    "    # Count plot with survival hue\n",
    "    sns.countplot(data=titanic, x=feature, hue='survived', ax=axes[idx], palette='Set1')\n",
    "    axes[idx].set_title(f'Survival by {feature.title()}', fontsize=12, fontweight='bold')\n",
    "    axes[idx].legend(['Did not survive', 'Survived'])\n",
    "    \n",
    "    # Rotate x-axis labels if needed\n",
    "    if feature in ['embarked']:\n",
    "        axes[idx].tick_params(axis='x', rotation=45)\n",
    "\n",
    "# Remove the empty subplot\n",
    "fig.delaxes(axes[5])\n",
    "\n",
    "plt.tight_layout()\n",
    "plt.show()"
   ]
  },
  {
   "cell_type": "code",
   "execution_count": null,
   "metadata": {},
   "outputs": [],
   "source": [
    "# Calculate survival rates by categorical features\n",
    "print(\"📊 Survival Rates by Categorical Features:\\n\")\n",
    "\n",
    "for feature in categorical_features:\n",
    "    print(f\"🔍 {feature.upper()}:\")\n",
    "    survival_by_feature = titanic.groupby(feature)['survived'].agg(['count', 'sum', 'mean'])\n",
    "    survival_by_feature.columns = ['Total', 'Survived', 'Survival_Rate']\n",
    "    survival_by_feature['Survival_Rate'] = survival_by_feature['Survival_Rate'].round(3)\n",
    "    print(survival_by_feature)\n",
    "    print(\"\\n\" + \"-\"*50 + \"\\n\")"
   ]
  },
  {
   "cell_type": "markdown",
   "metadata": {},
   "source": [
    "### 🧠 Key Insights from Categorical Features\n",
    "\n",
    "**Gender (sex)**:\n",
    "- Women had a **74.2%** survival rate vs men at **18.9%**\n",
    "- Clear evidence of \"women and children first\" policy\n",
    "\n",
    "**Passenger Class (pclass)**:\n",
    "- First class: **63.0%** survival rate\n",
    "- Second class: **47.3%** survival rate  \n",
    "- Third class: **24.2%** survival rate\n",
    "- Strong correlation between wealth/status and survival\n",
    "\n",
    "**Port of Embarkation (embarked)**:\n",
    "- Cherbourg (C): **55.4%** survival rate\n",
    "- Queenstown (Q): **39.0%** survival rate\n",
    "- Southampton (S): **33.7%** survival rate\n",
    "- May be correlated with passenger class/wealth\n",
    "\n",
    "These patterns will be crucial for our ML model!"
   ]
  },
  {
   "cell_type": "markdown",
   "metadata": {},
   "source": [
    "## 7. Numerical Features Exploration\n",
    "\n",
    "Now let's examine the numerical features and their distributions:"
   ]
  },
  {
   "cell_type": "code",
   "execution_count": null,
   "metadata": {},
   "outputs": [],
   "source": [
    "# Define numerical features\n",
    "numerical_features = ['age', 'fare', 'sibsp', 'parch']\n",
    "\n",
    "# Create distribution plots\n",
    "fig, axes = plt.subplots(2, 2, figsize=(15, 10))\n",
    "axes = axes.ravel()\n",
    "\n",
    "for idx, feature in enumerate(numerical_features):\n",
    "    # Remove missing values for plotting\n",
    "    data = titanic[feature].dropna()\n",
    "    \n",
    "    # Histogram with KDE\n",
    "    sns.histplot(data=data, kde=True, ax=axes[idx], color='skyblue', alpha=0.7)\n",
    "    axes[idx].set_title(f'Distribution of {feature.title()}', fontsize=12, fontweight='bold')\n",
    "    axes[idx].grid(alpha=0.3)\n",
    "    \n",
    "    # Add statistics text\n",
    "    mean_val = data.mean()\n",
    "    median_val = data.median()\n",
    "    axes[idx].axvline(mean_val, color='red', linestyle='--', label=f'Mean: {mean_val:.1f}')\n",
    "    axes[idx].axvline(median_val, color='green', linestyle='--', label=f'Median: {median_val:.1f}')\n",
    "    axes[idx].legend()\n",
    "\n",
    "plt.tight_layout()\n",
    "plt.show()"
   ]
  },
  {
   "cell_type": "code",
   "execution_count": null,
   "metadata": {},
   "outputs": [],
   "source": [
    "# Box plots to show survival patterns\n",
    "fig, axes = plt.subplots(2, 2, figsize=(15, 10))\n",
    "axes = axes.ravel()\n",
    "\n",
    "for idx, feature in enumerate(numerical_features):\n",
    "    sns.boxplot(data=titanic, x='survived', y=feature, ax=axes[idx], palette='Set2')\n",
    "    axes[idx].set_title(f'{feature.title()} by Survival Status', fontsize=12, fontweight='bold')\n",
    "    axes[idx].set_xlabel('Survived (0=No, 1=Yes)')\n",
    "    axes[idx].grid(alpha=0.3)\n",
    "\n",
    "plt.tight_layout()\n",
    "plt.show()"
   ]
  },
  {
   "cell_type": "code",
   "execution_count": null,
   "metadata": {},
   "outputs": [],
   "source": [
    "# Statistical summary by survival status\n",
    "print(\"📊 Numerical Features by Survival Status:\\n\")\n",
    "\n",
    "for feature in numerical_features:\n",
    "    print(f\"🔍 {feature.upper()}:\")\n",
    "    stats = titanic.groupby('survived')[feature].describe().round(2)\n",
    "    print(stats)\n",
    "    print(\"\\n\" + \"-\"*70 + \"\\n\")"
   ]
  },
  {
   "cell_type": "markdown",
   "metadata": {},
   "source": [
    "### 🧠 Key Insights from Numerical Features\n",
    "\n",
    "**Age**:\n",
    "- Survivors were slightly younger on average (28.3 vs 30.6 years)\n",
    "- Children (under 16) had better survival chances\n",
    "- Right-skewed distribution with most passengers between 20-40\n",
    "\n",
    "**Fare**:\n",
    "- Survivors paid significantly higher fares on average (48.4 vs 22.1)\n",
    "- Highly right-skewed distribution (few very expensive tickets)\n",
    "- Strong correlation with passenger class\n",
    "\n",
    "**Family Size (SibSp + Parch)**:\n",
    "- Most passengers traveled alone or with small families\n",
    "- Medium family sizes (2-4 people) had better survival rates\n",
    "- Very large families had poor survival rates\n",
    "\n",
    "### 🚨 Data Quality Notes:\n",
    "- **Fare** has extreme outliers (some tickets cost 10x the median)\n",
    "- **Age** has a lot of missing values we'll need to handle\n",
    "- **SibSp/Parch** are counts, so they're naturally discrete"
   ]
  },
  {
   "cell_type": "markdown",
   "metadata": {},
   "source": [
    "## 8. Correlation Analysis\n",
    "\n",
    "Let's examine how features relate to each other and to our target variable:"
   ]
  },
  {
   "cell_type": "code",
   "execution_count": null,
   "metadata": {},
   "outputs": [],
   "source": [
    "# Select numerical columns for correlation analysis\n",
    "numerical_cols = ['survived', 'pclass', 'age', 'sibsp', 'parch', 'fare']\n",
    "correlation_data = titanic[numerical_cols].corr()\n",
    "\n",
    "# Create correlation heatmap\n",
    "plt.figure(figsize=(10, 8))\n",
    "sns.heatmap(correlation_data, \n",
    "            annot=True, \n",
    "            cmap='RdBu_r', \n",
    "            center=0,\n",
    "            square=True, \n",
    "            fmt='.3f',\n",
    "            cbar_kws={'label': 'Correlation Coefficient'})\n",
    "plt.title('Feature Correlation Matrix', fontsize=14, fontweight='bold')\n",
    "plt.tight_layout()\n",
    "plt.show()\n",
    "\n",
    "# Show correlations with survival specifically\n",
    "survival_correlations = correlation_data['survived'].drop('survived').sort_values(key=abs, ascending=False)\n",
    "print(\"🎯 Correlations with Survival (strongest to weakest):\\n\")\n",
    "for feature, corr in survival_correlations.items():\n",
    "    direction = \"📈 Positive\" if corr > 0 else \"📉 Negative\"\n",
    "    strength = \"Strong\" if abs(corr) > 0.3 else \"Moderate\" if abs(corr) > 0.1 else \"Weak\"\n",
    "    print(f\"{feature}: {corr:.3f} ({direction}, {strength})\")"
   ]
  },
  {
   "cell_type": "markdown",
   "metadata": {},
   "source": [
    "### 🧠 Understanding Correlations\n",
    "\n",
    "**Strongest Predictors of Survival:**\n",
    "1. **Fare (+0.257)**: Higher fare → Higher survival chance\n",
    "2. **Pclass (-0.338)**: Lower class number (higher class) → Higher survival chance\n",
    "\n",
    "**Interesting Relationships:**\n",
    "- **Pclass & Fare (-0.549)**: Higher class passengers paid more (expected)\n",
    "- **Age & Pclass (+0.308)**: Older passengers tended to be in higher classes\n",
    "- **SibSp & Parch (+0.372)**: People with siblings often had parents/children too\n",
    "\n",
    "**Why This Matters:**\n",
    "- These correlations guide feature selection for our model\n",
    "- High correlations between features might cause multicollinearity\n",
    "- The moderate correlations suggest we'll need multiple features to predict survival well"
   ]
  },
  {
   "cell_type": "markdown",
   "metadata": {},
   "source": [
    "## 9. Advanced Relationship Analysis\n",
    "\n",
    "Let's dig deeper into some interesting relationships:"
   ]
  },
  {
   "cell_type": "code",
   "execution_count": null,
   "metadata": {},
   "outputs": [],
   "source": [
    "# Create family size feature for analysis\n",
    "titanic['family_size'] = titanic['sibsp'] + titanic['parch'] + 1  # +1 for the passenger themselves\n",
    "\n",
    "# Survival by family size\n",
    "plt.figure(figsize=(12, 5))\n",
    "\n",
    "plt.subplot(1, 2, 1)\n",
    "family_survival = titanic.groupby('family_size')['survived'].agg(['count', 'mean'])\n",
    "sns.barplot(x=family_survival.index, y=family_survival['mean'], palette='viridis')\n",
    "plt.title('Survival Rate by Family Size', fontsize=12, fontweight='bold')\n",
    "plt.xlabel('Family Size')\n",
    "plt.ylabel('Survival Rate')\n",
    "plt.grid(axis='y', alpha=0.3)\n",
    "\n",
    "# Add count labels\n",
    "for i, (size, count) in enumerate(family_survival['count'].items()):\n",
    "    plt.text(i, family_survival['mean'].iloc[i] + 0.02, f'n={count}', ha='center', fontsize=9)\n",
    "\n",
    "plt.subplot(1, 2, 2)\n",
    "# Age groups survival\n",
    "titanic['age_group'] = pd.cut(titanic['age'], bins=[0, 12, 18, 35, 60, 100], \n",
    "                             labels=['Child', 'Teen', 'Young Adult', 'Adult', 'Senior'])\n",
    "age_survival = titanic.groupby('age_group', observed=False)['survived'].mean()\n",
    "sns.barplot(x=age_survival.index, y=age_survival.values, palette='plasma')\n",
    "plt.title('Survival Rate by Age Group', fontsize=12, fontweight='bold')\n",
    "plt.xlabel('Age Group')\n",
    "plt.ylabel('Survival Rate')\n",
    "plt.xticks(rotation=45)\n",
    "plt.grid(axis='y', alpha=0.3)\n",
    "\n",
    "plt.tight_layout()\n",
    "plt.show()"
   ]
  },
  {
   "cell_type": "code",
   "execution_count": null,
   "metadata": {},
   "outputs": [],
   "source": [
    "# Cross-tabulation: Gender vs Class vs Survival\n",
    "print(\"🔍 Survival Rates by Gender and Class:\\n\")\n",
    "\n",
    "# Create a pivot table\n",
    "survival_by_gender_class = pd.crosstab([titanic['sex'], titanic['pclass']], \n",
    "                                      titanic['survived'], normalize='index')\n",
    "survival_by_gender_class = survival_by_gender_class.round(3)\n",
    "print(survival_by_gender_class)\n",
    "\n",
    "# Visualize this relationship\n",
    "plt.figure(figsize=(10, 6))\n",
    "sns.heatmap(survival_by_gender_class, annot=True, fmt='.3f', cmap='RdYlGn', \n",
    "            cbar_kws={'label': 'Survival Rate'})\n",
    "plt.title('Survival Rate by Gender and Passenger Class', fontsize=14, fontweight='bold')\n",
    "plt.xlabel('Survived (0=No, 1=Yes)')\n",
    "plt.ylabel('Gender and Class')\n",
    "plt.tight_layout()\n",
    "plt.show()"
   ]
  },
  {
   "cell_type": "markdown",
   "metadata": {},
   "source": [
    "### 🧠 Advanced Insights\n",
    "\n",
    "**Family Size Pattern:**\n",
    "- Solo travelers: ~30% survival rate\n",
    "- Small families (2-4): ~55-70% survival rate  \n",
    "- Large families (5+): ~20% survival rate\n",
    "- **Insight**: Medium-sized families had advantages, possibly helping each other while being small enough to move quickly\n",
    "\n",
    "**Age Group Pattern:**\n",
    "- Children: ~58% survival rate (\"children first\" policy)\n",
    "- Adults: ~35-40% survival rate\n",
    "- **Insight**: Clear evidence of age-based evacuation priorities\n",
    "\n",
    "**Gender + Class Interaction:**\n",
    "- First-class women: **96.8%** survival rate\n",
    "- Third-class men: **13.5%** survival rate\n",
    "- **Insight**: The combination of gender and class was crucial - privilege compounded advantages"
   ]
  },
  {
   "cell_type": "markdown",
   "metadata": {},
   "source": [
    "## 10. Feature Engineering Preview\n",
    "\n",
    "Let's identify some potential new features we could create (we'll do this properly on Day 2):"
   ]
  },
  {
   "cell_type": "code",
   "execution_count": null,
   "metadata": {},
   "outputs": [],
   "source": [
    "# Preview of feature engineering opportunities\n",
    "print(\"🔧 Feature Engineering Opportunities Identified:\\n\")\n",
    "\n",
    "# 1. Title extraction from names\n",
    "print(\"1. TITLE EXTRACTION:\")\n",
    "print(\"Sample names and potential titles:\")\n",
    "sample_names = titanic['name'].head(10)\n",
    "for name in sample_names:\n",
    "    # Simple title extraction (we'll improve this tomorrow)\n",
    "    if 'Mr.' in name:\n",
    "        title = 'Mr'\n",
    "    elif 'Mrs.' in name:\n",
    "        title = 'Mrs'\n",
    "    elif 'Miss.' in name:\n",
    "        title = 'Miss'\n",
    "    elif 'Master.' in name:\n",
    "        title = 'Master'\n",
    "    else:\n",
    "        title = 'Other'\n",
    "    print(f\"   {name[:30]}... → {title}\")\n",
    "\n",
    "print(\"\\n\" + \"-\"*60)\n",
    "\n",
    "# 2. Family size categories\n",
    "print(\"\\n2. FAMILY SIZE CATEGORIES:\")\n",
    "titanic['family_category'] = titanic['family_size'].apply(\n",
    "    lambda x: 'Solo' if x == 1 else 'Small' if x <= 4 else 'Large'\n",
    ")\n",
    "print(titanic['family_category'].value_counts())\n",
    "\n",
    "print(\"\\n\" + \"-\"*60)\n",
    "\n",
    "# 3. Fare per person\n",
    "print(\"\\n3. FARE PER PERSON:\")\n",
    "titanic['fare_per_person'] = titanic['fare'] / titanic['family_size']\n",
    "print(f\"Original fare range: ${titanic['fare'].min():.2f} - ${titanic['fare'].max():.2f}\")\n",
    "print(f\"Fare per person range: ${titanic['fare_per_person'].min():.2f} - ${titanic['fare_per_person'].max():.2f}\")\n",
    "\n",
    "print(\"\\n\" + \"-\"*60)\n",
    "\n",
    "# 4. Age groups\n",
    "print(\"\\n4. AGE GROUPS:\")\n",
    "print(titanic['age_group'].value_counts().dropna())"
   ]
  },
  {
   "cell_type": "markdown",
   "metadata": {},
   "source": [
    "## 11. Data Quality Assessment\n",
    "\n",
    "Let's summarize the data quality issues we need to address tomorrow:"
   ]
  },
  {
   "cell_type": "code",
   "execution_count": null,
   "metadata": {},
   "outputs": [],
   "source": [
    "print(\"🔍 DATA QUALITY ASSESSMENT SUMMARY\\n\")\n",
    "print(\"=\" * 50)\n",
    "\n",
    "# 1. Missing data summary\n",
    "print(\"\\n1. MISSING DATA ISSUES:\")\n",
    "missing_summary_clean = titanic.isnull().sum().sort_values(ascending=False)\n",
    "missing_summary_clean = missing_summary_clean[missing_summary_clean > 0]\n",
    "for col, count in missing_summary_clean.items():\n",
    "    percentage = (count / len(titanic)) * 100\n",
    "    severity = \"🚨 Critical\" if percentage > 50 else \"⚠️ Moderate\" if percentage > 10 else \"✅ Minor\"\n",
    "    print(f\"   {col}: {count} missing ({percentage:.1f}%) - {severity}\")\n",
    "\n",
    "# 2. Duplicate features\n",
    "print(\"\\n2. DUPLICATE/REDUNDANT FEATURES:\")\n",
    "print(\"   📋 pclass ≈ class (same information, different format)\")\n",
    "print(\"   📋 survived ≈ alive (same information, different format)\")\n",
    "print(\"   📋 embarked ≈ embark_town (same information, different format)\")\n",
    "print(\"   📋 who ≈ derived from sex + age\")\n",
    "print(\"   📋 alone ≈ derived from sibsp + parch\")\n",
    "\n",
    "# 3. Data type issues\n",
    "print(\"\\n3. DATA TYPE CONSIDERATIONS:\")\n",
    "print(\"   🔢 pclass: Currently numeric, but should be categorical\")\n",
    "print(\"   🔤 survived: Currently numeric, but represents categories\")\n",
    "print(\"   💰 fare: Has extreme outliers that might need handling\")\n",
    "\n",
    "# 4. Outliers\n",
    "print(\"\\n4. OUTLIER ANALYSIS:\")\n",
    "fare_q99 = titanic['fare'].quantile(0.99)\n",
    "age_q99 = titanic['age'].quantile(0.99)\n",
    "outlier_fares = (titanic['fare'] > fare_q99).sum()\n",
    "print(f\"   💰 Fare outliers (>99th percentile): {outlier_fares} passengers\")\n",
    "print(f\"   👴 Age outliers (>99th percentile): {(titanic['age'] > age_q99).sum()} passengers\")\n",
    "\n",
    "print(\"\\n\" + \"=\" * 50)\n",
    "print(\"📋 TOMORROW'S DATA CLEANING PRIORITIES:\")\n",
    "print(\"   1. Handle missing age values (imputation)\")\n",
    "print(\"   2. Handle missing embarked values (mode imputation)\")\n",
    "print(\"   3. Decide on deck feature (likely drop due to 77% missing)\")\n",
    "print(\"   4. Remove duplicate features\")\n",
    "print(\"   5. Convert data types appropriately\")\n",
    "print(\"   6. Handle fare outliers if necessary\")\n",
    "print(\"   7. Create new features (title, family_size, etc.)\")"
   ]
  },
  {
   "cell_type": "markdown",
   "metadata": {},
   "source": [
    "## 12. Key Insights Summary\n",
    "\n",
    "Let's summarize the most important findings from today's analysis:"
   ]
  },
  {
   "cell_type": "code",
   "execution_count": null,
   "metadata": {},
   "outputs": [],
   "source": [
    "print(\"🎯 KEY INSIGHTS FROM TODAY'S ANALYSIS\\n\")\n",
    "print(\"=\" * 60)\n",
    "\n",
    "print(\"\\n📊 DATASET OVERVIEW:\")\n",
    "print(f\"   • {len(titanic)} passengers, {titanic.shape[1]} features\")\n",
    "print(f\"   • {titanic['survived'].mean():.1%} overall survival rate\")\n",
    "print(f\"   • Binary classification problem (survived: yes/no)\")\n",
    "\n",
    "print(\"\\n🔍 STRONGEST SURVIVAL PREDICTORS:\")\n",
    "print(\"   1. 👩 Gender: Women 74.2% vs Men 18.9% survival rate\")\n",
    "print(\"   2. 🎫 Passenger Class: 1st class 63.0% vs 3rd class 24.2%\")\n",
    "print(\"   3. 👨‍👩‍👧‍👦 Family Size: Medium families (2-4) had highest survival\")\n",
    "print(\"   4. 💰 Fare: Higher paying passengers survived more often\")\n",
    "print(\"   5. 👶 Age: Children had better survival chances\")\n",
    "\n",
    "print(\"\\n🔗 IMPORTANT RELATIONSHIPS:\")\n",
    "print(\"   • Gender + Class interaction is crucial (1st class women: 96.8% survival)\")\n",
    "print(\"   • Fare correlates with passenger class (wealth indicator)\")\n",
    "print(\"   • Port of embarkation may proxy for passenger class\")\n",
    "print(\"   • Family size has optimal range (not solo, not too large)\")\n",
    "\n",
    "print(\"\\n⚠️ DATA CHALLENGES:\")\n",
    "print(\"   • Age: 20% missing values\")\n",
    "print(\"   • Deck: 77% missing (likely unusable)\")\n",
    "print(\"   • Class imbalance: 61.6% deaths vs 38.4% survivors\")\n",
    "print(\"   • Fare has extreme outliers\")\n",
    "print(\"   • Several redundant features to clean up\")\n",
    "\n",
    "print(\"\\n🎯 ML MODEL IMPLICATIONS:\")\n",
    "print(\"   • Multiple features needed for good prediction\")\n",
    "print(\"   • Feature interactions likely important\")\n",
    "print(\"   • Need to handle class imbalance in evaluation\")\n",
    "print(\"   • Feature engineering opportunities identified\")\n",
    "\n",
    "print(\"\\n\" + \"=\" * 60)\n",
    "print(\"✅ DAY 1 COMPLETE! Ready for Day 2: Data Cleaning & Feature Engineering\")"
   ]
  },
  {
   "cell_type": "markdown",
   "metadata": {},
   "source": [
    "## 13. Tomorrow's Roadmap: Day 2 Preview\n",
    "\n",
    "Based on today's analysis, here's what we'll tackle tomorrow:"
   ]
  },
  {
   "cell_type": "markdown",
   "metadata": {},
   "source": [
    "### 🗓️ Day 2: Data Cleaning & Feature Engineering\n",
    "\n",
    "**Morning Session (Data Cleaning):**\n",
    "1. **Missing Value Strategy**\n",
    "   - Age: Impute using median by passenger class and gender\n",
    "   - Embarked: Fill with most common value ('S')\n",
    "   - Deck: Drop due to 77% missing\n",
    "\n",
    "2. **Feature Cleanup**\n",
    "   - Remove duplicate features (class, alive, embark_town, etc.)\n",
    "   - Convert data types (pclass to categorical)\n",
    "   - Handle outliers in fare if needed\n",
    "\n",
    "**Afternoon Session (Feature Engineering):**\n",
    "3. **New Feature Creation**\n",
    "   - Extract titles from names (Mr, Mrs, Miss, Master, etc.)\n",
    "   - Create family_size and family_category features\n",
    "   - Calculate fare_per_person\n",
    "   - Create age_group categories\n",
    "   - Create is_child feature\n",
    "\n",
    "4. **Feature Encoding**\n",
    "   - One-hot encode categorical variables\n",
    "   - Scale numerical features\n",
    "   - Prepare final feature matrix\n",
    "\n",
    "**What You'll Learn:**\n",
    "- Different imputation strategies and when to use them\n",
    "- Feature engineering techniques that improve model performance\n",
    "- How to encode categorical variables for ML algorithms\n",
    "- Why feature scaling matters for some algorithms\n",
    "\n",
    "### 💡 Questions to Think About:\n",
    "1. What other titles might be hidden in the name field?\n",
    "2. Should we treat fare outliers, or do they contain important information?\n",
    "3. How might we combine sibsp and parch more intelligently?\n",
    "4. What age ranges make the most sense for grouping?\n",
    "\n",
    "**See you tomorrow for Day 2! 🚀**"
   ]
  },
  {
   "cell_type": "markdown",
   "metadata": {},
   "source": [
    "---\n",
    "\n",
    "## 🎉 Congratulations on Completing Day 1!\n",
    "\n",
    "You've successfully completed a thorough exploratory data analysis of the Titanic dataset. Today's work forms the foundation for everything we'll build this week.\n",
    "\n",
    "### What You Accomplished:\n",
    "✅ Loaded and understood the dataset structure  \n",
    "✅ Identified missing data patterns and quality issues  \n",
    "✅ Explored all features and their relationships with survival  \n",
    "✅ Discovered key insights about survival patterns  \n",
    "✅ Identified data cleaning priorities for tomorrow  \n",
    "✅ Planned feature engineering opportunities  \n",
    "\n",
    "### Key Takeaways:\n",
    "- **EDA is crucial**: Understanding your data deeply informs every subsequent decision\n",
    "- **Multiple factors matter**: No single feature perfectly predicts survival\n",
    "- **Interactions are important**: Gender + class combinations tell a richer story\n",
    "- **Data quality varies**: Real-world data always needs cleaning\n",
    "\n",
    "**Ready for Day 2? Let's clean this data and engineer some powerful features! 💪**"
   ]
  }
 ],
 "metadata": {
  "kernelspec": {
   "display_name": "ml_env",
   "language": "python",
   "name": "python3"
  },
  "language_info": {
   "codemirror_mode": {
    "name": "ipython",
    "version": 3
   },
   "file_extension": ".py",
   "mimetype": "text/x-python",
   "name": "python",
   "nbconvert_exporter": "python",
   "pygments_lexer": "ipython3",
   "version": "3.13.3"
  }
 },
 "nbformat": 4,
 "nbformat_minor": 4
}
